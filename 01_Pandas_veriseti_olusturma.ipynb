{
 "cells": [
  {
   "cell_type": "markdown",
   "metadata": {},
   "source": [
    "##### Pandas\n",
    "Pandas sayesinde gerçek hayat veri setlerini analiz edebiliriz. Veri analinzdeki en çok kullanılan kütüphanesdir."
   ]
  },
  {
   "cell_type": "code",
   "execution_count": 2,
   "metadata": {},
   "outputs": [],
   "source": [
    "import pandas as pd\n",
    "import numpy as np"
   ]
  },
  {
   "cell_type": "code",
   "execution_count": 3,
   "metadata": {},
   "outputs": [],
   "source": [
    "def myfunc(kek):\n",
    "    return kek"
   ]
  },
  {
   "cell_type": "code",
   "execution_count": 4,
   "metadata": {},
   "outputs": [],
   "source": [
    "df = pd.DataFrame(data={\"Yes\":[myfunc,21],\"No\":[131,2]},index=[myfunc,\"bur\"])"
   ]
  },
  {
   "cell_type": "code",
   "execution_count": 5,
   "metadata": {},
   "outputs": [
    {
     "data": {
      "text/html": [
       "<div>\n",
       "<style scoped>\n",
       "    .dataframe tbody tr th:only-of-type {\n",
       "        vertical-align: middle;\n",
       "    }\n",
       "\n",
       "    .dataframe tbody tr th {\n",
       "        vertical-align: top;\n",
       "    }\n",
       "\n",
       "    .dataframe thead th {\n",
       "        text-align: right;\n",
       "    }\n",
       "</style>\n",
       "<table border=\"1\" class=\"dataframe\">\n",
       "  <thead>\n",
       "    <tr style=\"text-align: right;\">\n",
       "      <th></th>\n",
       "      <th>Yes</th>\n",
       "      <th>No</th>\n",
       "    </tr>\n",
       "  </thead>\n",
       "  <tbody>\n",
       "    <tr>\n",
       "      <th>&lt;function myfunc at 0x78532fb4cc20&gt;</th>\n",
       "      <td>&lt;function myfunc at 0x78532fb4cc20&gt;</td>\n",
       "      <td>131</td>\n",
       "    </tr>\n",
       "    <tr>\n",
       "      <th>bur</th>\n",
       "      <td>21</td>\n",
       "      <td>2</td>\n",
       "    </tr>\n",
       "  </tbody>\n",
       "</table>\n",
       "</div>"
      ],
      "text/plain": [
       "                                                                     Yes   No\n",
       "<function myfunc at 0x78532fb4cc20>  <function myfunc at 0x78532fb4cc20>  131\n",
       "bur                                                                   21    2"
      ]
     },
     "execution_count": 5,
     "metadata": {},
     "output_type": "execute_result"
    }
   ],
   "source": [
    "df"
   ]
  },
  {
   "cell_type": "markdown",
   "metadata": {},
   "source": [
    "##### Series\n",
    "Dataframe bir tablodur. Series ise bir listedir. Aslında tablonun liste formunda getirilmiş hali diyebiliriz."
   ]
  },
  {
   "cell_type": "code",
   "execution_count": 6,
   "metadata": {},
   "outputs": [
    {
     "data": {
      "text/plain": [
       "0      hebele\n",
       "1     huübele\n",
       "2      debele\n",
       "3    hasdhsdf\n",
       "dtype: object"
      ]
     },
     "execution_count": 6,
     "metadata": {},
     "output_type": "execute_result"
    }
   ],
   "source": [
    "pd.Series([\"hebele\",\"huübele\",\"debele\",\"hasdhsdf\"])"
   ]
  },
  {
   "cell_type": "code",
   "execution_count": 7,
   "metadata": {},
   "outputs": [
    {
     "data": {
      "text/plain": [
       "Pazartesi    131\n",
       "Salı         145\n",
       "Çarşamba     212\n",
       "Perşembe     421\n",
       "Cuma         342\n",
       "Cumartesi    421\n",
       "Pazar        123\n",
       "Name: Haftalık Kitap Satışları, dtype: int64"
      ]
     },
     "execution_count": 7,
     "metadata": {},
     "output_type": "execute_result"
    }
   ],
   "source": [
    "pd.Series([131,145,212,421,342,421,123],index=[\"Pazartesi\",\"Salı\",\"Çarşamba\",\"Perşembe\",\"Cuma\",\"Cumartesi\",\"Pazar\"],name=\"Haftalık Kitap Satışları\")"
   ]
  },
  {
   "cell_type": "markdown",
   "metadata": {},
   "source": [
    "##### Aşağıdaki gibi bir datarame oluşturun\n"
   ]
  },
  {
   "cell_type": "code",
   "execution_count": 8,
   "metadata": {},
   "outputs": [
    {
     "data": {
      "text/html": [
       "<div>\n",
       "<style scoped>\n",
       "    .dataframe tbody tr th:only-of-type {\n",
       "        vertical-align: middle;\n",
       "    }\n",
       "\n",
       "    .dataframe tbody tr th {\n",
       "        vertical-align: top;\n",
       "    }\n",
       "\n",
       "    .dataframe thead th {\n",
       "        text-align: right;\n",
       "    }\n",
       "</style>\n",
       "<table border=\"1\" class=\"dataframe\">\n",
       "  <thead>\n",
       "    <tr style=\"text-align: right;\">\n",
       "      <th></th>\n",
       "      <th>Apples</th>\n",
       "      <th>Bananas</th>\n",
       "    </tr>\n",
       "  </thead>\n",
       "  <tbody>\n",
       "    <tr>\n",
       "      <th>0</th>\n",
       "      <td>35</td>\n",
       "      <td>21</td>\n",
       "    </tr>\n",
       "    <tr>\n",
       "      <th>1</th>\n",
       "      <td>41</td>\n",
       "      <td>34</td>\n",
       "    </tr>\n",
       "  </tbody>\n",
       "</table>\n",
       "</div>"
      ],
      "text/plain": [
       "   Apples  Bananas\n",
       "0      35       21\n",
       "1      41       34"
      ]
     },
     "execution_count": 8,
     "metadata": {},
     "output_type": "execute_result"
    }
   ],
   "source": [
    "pd.DataFrame({\"Apples\":[30],\"Bananas\":[21]})\n",
    "pd.DataFrame({\"Apples\":30,\"Bananas\":21},index=[0])\n",
    "pd.DataFrame({\"Apples\":[35,41],\"Bananas\":[21,34]})\n"
   ]
  },
  {
   "cell_type": "markdown",
   "metadata": {},
   "source": [
    "##### Pandas veri setleri üzerinde, indexleme, dilimleme, seçme ve atama işlemleri."
   ]
  },
  {
   "cell_type": "code",
   "execution_count": 9,
   "metadata": {},
   "outputs": [
    {
     "data": {
      "text/plain": [
       "True"
      ]
     },
     "execution_count": 9,
     "metadata": {},
     "output_type": "execute_result"
    }
   ],
   "source": [
    "df = pd.read_csv(\"/workspaces/H05_Veri_Analizi_EDA/winemag-data-130k-v2.csv\",index_col = 0)\n",
    "# df.head(6)\n",
    "\n",
    "# df.tail() # son 5\n",
    "# df.columns # all columns\n",
    "# iloc() Veri setinden indexlemeyi sayılarıla yapmayı sağlar. Virgül'ün solu satırları indexleme , sağı sütunları indexleme\n",
    "# loc() Veri setinden indexleyemeyi sütun etiketiyle yapmayı sağlar.\n",
    "# df.nunique()\n",
    "df.columns[2] == \"designation\"\n",
    "# df.iloc[:,\"country\"]"
   ]
  },
  {
   "cell_type": "code",
   "execution_count": 10,
   "metadata": {},
   "outputs": [
    {
     "data": {
      "text/plain": [
       "12"
      ]
     },
     "execution_count": 10,
     "metadata": {},
     "output_type": "execute_result"
    }
   ],
   "source": [
    "list(df.columns).index(\"winery\")"
   ]
  },
  {
   "cell_type": "code",
   "execution_count": 11,
   "metadata": {},
   "outputs": [
    {
     "data": {
      "text/html": [
       "<div>\n",
       "<style scoped>\n",
       "    .dataframe tbody tr th:only-of-type {\n",
       "        vertical-align: middle;\n",
       "    }\n",
       "\n",
       "    .dataframe tbody tr th {\n",
       "        vertical-align: top;\n",
       "    }\n",
       "\n",
       "    .dataframe thead th {\n",
       "        text-align: right;\n",
       "    }\n",
       "</style>\n",
       "<table border=\"1\" class=\"dataframe\">\n",
       "  <thead>\n",
       "    <tr style=\"text-align: right;\">\n",
       "      <th></th>\n",
       "      <th>country</th>\n",
       "      <th>description</th>\n",
       "      <th>designation</th>\n",
       "      <th>points</th>\n",
       "      <th>price</th>\n",
       "      <th>province</th>\n",
       "      <th>region_1</th>\n",
       "      <th>region_2</th>\n",
       "      <th>taster_name</th>\n",
       "      <th>taster_twitter_handle</th>\n",
       "      <th>title</th>\n",
       "      <th>variety</th>\n",
       "      <th>winery</th>\n",
       "    </tr>\n",
       "  </thead>\n",
       "  <tbody>\n",
       "    <tr>\n",
       "      <th>119</th>\n",
       "      <td>France</td>\n",
       "      <td>Medium-gold in color. Complex and inviting nos...</td>\n",
       "      <td>Schoenenbourg Grand Cru Vendanges Tardives</td>\n",
       "      <td>92</td>\n",
       "      <td>80.0</td>\n",
       "      <td>Alsace</td>\n",
       "      <td>Alsace</td>\n",
       "      <td>NaN</td>\n",
       "      <td>NaN</td>\n",
       "      <td>NaN</td>\n",
       "      <td>Dopff &amp; Irion 2004 Schoenenbourg Grand Cru Ven...</td>\n",
       "      <td>Riesling</td>\n",
       "      <td>Dopff &amp; Irion</td>\n",
       "    </tr>\n",
       "    <tr>\n",
       "      <th>120</th>\n",
       "      <td>Italy</td>\n",
       "      <td>Slightly backward, particularly given the vint...</td>\n",
       "      <td>Bricco Rocche Prapó</td>\n",
       "      <td>92</td>\n",
       "      <td>70.0</td>\n",
       "      <td>Piedmont</td>\n",
       "      <td>Barolo</td>\n",
       "      <td>NaN</td>\n",
       "      <td>NaN</td>\n",
       "      <td>NaN</td>\n",
       "      <td>Ceretto 2003 Bricco Rocche Prapó  (Barolo)</td>\n",
       "      <td>Nebbiolo</td>\n",
       "      <td>Ceretto</td>\n",
       "    </tr>\n",
       "    <tr>\n",
       "      <th>121</th>\n",
       "      <td>US</td>\n",
       "      <td>The vineyard is one of the better Chardonnay s...</td>\n",
       "      <td>Stuhlmuller Vineyard</td>\n",
       "      <td>92</td>\n",
       "      <td>36.0</td>\n",
       "      <td>California</td>\n",
       "      <td>Alexander Valley</td>\n",
       "      <td>Sonoma</td>\n",
       "      <td>NaN</td>\n",
       "      <td>NaN</td>\n",
       "      <td>Matrix 2007 Stuhlmuller Vineyard Chardonnay (A...</td>\n",
       "      <td>Chardonnay</td>\n",
       "      <td>Matrix</td>\n",
       "    </tr>\n",
       "    <tr>\n",
       "      <th>122</th>\n",
       "      <td>US</td>\n",
       "      <td>Defines Rockpile Zinfandel in intensity of fru...</td>\n",
       "      <td>Rockpile Cemetary Vineyard</td>\n",
       "      <td>92</td>\n",
       "      <td>39.0</td>\n",
       "      <td>California</td>\n",
       "      <td>Rockpile</td>\n",
       "      <td>Sonoma</td>\n",
       "      <td>NaN</td>\n",
       "      <td>NaN</td>\n",
       "      <td>Mauritson 2007 Rockpile Cemetary Vineyard Zinf...</td>\n",
       "      <td>Zinfandel</td>\n",
       "      <td>Mauritson</td>\n",
       "    </tr>\n",
       "    <tr>\n",
       "      <th>123</th>\n",
       "      <td>Australia</td>\n",
       "      <td>The blend is roughly two-thirds Shiraz and one...</td>\n",
       "      <td>Parson's Flat</td>\n",
       "      <td>92</td>\n",
       "      <td>40.0</td>\n",
       "      <td>South Australia</td>\n",
       "      <td>Padthaway</td>\n",
       "      <td>NaN</td>\n",
       "      <td>Joe Czerwinski</td>\n",
       "      <td>@JoeCz</td>\n",
       "      <td>Henry's Drive Vignerons 2006 Parson's Flat Shi...</td>\n",
       "      <td>Shiraz-Cabernet Sauvignon</td>\n",
       "      <td>Henry's Drive Vignerons</td>\n",
       "    </tr>\n",
       "    <tr>\n",
       "      <th>...</th>\n",
       "      <td>...</td>\n",
       "      <td>...</td>\n",
       "      <td>...</td>\n",
       "      <td>...</td>\n",
       "      <td>...</td>\n",
       "      <td>...</td>\n",
       "      <td>...</td>\n",
       "      <td>...</td>\n",
       "      <td>...</td>\n",
       "      <td>...</td>\n",
       "      <td>...</td>\n",
       "      <td>...</td>\n",
       "      <td>...</td>\n",
       "    </tr>\n",
       "    <tr>\n",
       "      <th>129936</th>\n",
       "      <td>France</td>\n",
       "      <td>A blend from several premier cru vineyards in ...</td>\n",
       "      <td>Premier Cru</td>\n",
       "      <td>91</td>\n",
       "      <td>66.0</td>\n",
       "      <td>Burgundy</td>\n",
       "      <td>Pommard</td>\n",
       "      <td>NaN</td>\n",
       "      <td>Roger Voss</td>\n",
       "      <td>@vossroger</td>\n",
       "      <td>Bouchard Père &amp; Fils 2005 Premier Cru  (Pommard)</td>\n",
       "      <td>Pinot Noir</td>\n",
       "      <td>Bouchard Père &amp; Fils</td>\n",
       "    </tr>\n",
       "    <tr>\n",
       "      <th>129937</th>\n",
       "      <td>Austria</td>\n",
       "      <td>Smooth, creamy aromas are followed by a rich, ...</td>\n",
       "      <td>Langenloiser Berg-Vogelsang</td>\n",
       "      <td>91</td>\n",
       "      <td>32.0</td>\n",
       "      <td>Kamptal</td>\n",
       "      <td>NaN</td>\n",
       "      <td>NaN</td>\n",
       "      <td>Roger Voss</td>\n",
       "      <td>@vossroger</td>\n",
       "      <td>Bründlmayer 2007 Langenloiser Berg-Vogelsang G...</td>\n",
       "      <td>Grüner Veltliner</td>\n",
       "      <td>Bründlmayer</td>\n",
       "    </tr>\n",
       "    <tr>\n",
       "      <th>129938</th>\n",
       "      <td>Argentina</td>\n",
       "      <td>Compared to the regular 2006 Malbec from Chaka...</td>\n",
       "      <td>Reserve</td>\n",
       "      <td>91</td>\n",
       "      <td>25.0</td>\n",
       "      <td>Mendoza Province</td>\n",
       "      <td>Luján de Cuyo</td>\n",
       "      <td>NaN</td>\n",
       "      <td>Michael Schachner</td>\n",
       "      <td>@wineschach</td>\n",
       "      <td>Chakana 2006 Reserve Malbec (Luján de Cuyo)</td>\n",
       "      <td>Malbec</td>\n",
       "      <td>Chakana</td>\n",
       "    </tr>\n",
       "    <tr>\n",
       "      <th>129939</th>\n",
       "      <td>Austria</td>\n",
       "      <td>A true TBA, its very rich, toffee-flavored, in...</td>\n",
       "      <td>Grand Vin</td>\n",
       "      <td>91</td>\n",
       "      <td>70.0</td>\n",
       "      <td>Burgenland</td>\n",
       "      <td>NaN</td>\n",
       "      <td>NaN</td>\n",
       "      <td>Roger Voss</td>\n",
       "      <td>@vossroger</td>\n",
       "      <td>Schloss Halbturn 2004 Grand Vin White (Burgenl...</td>\n",
       "      <td>White Blend</td>\n",
       "      <td>Schloss Halbturn</td>\n",
       "    </tr>\n",
       "    <tr>\n",
       "      <th>129940</th>\n",
       "      <td>US</td>\n",
       "      <td>This is the winery's bells and whistles Chardo...</td>\n",
       "      <td>Watson Vineyard</td>\n",
       "      <td>91</td>\n",
       "      <td>36.0</td>\n",
       "      <td>California</td>\n",
       "      <td>Mendocino</td>\n",
       "      <td>NaN</td>\n",
       "      <td>NaN</td>\n",
       "      <td>NaN</td>\n",
       "      <td>Standish 2006 Watson Vineyard Chardonnay (Mend...</td>\n",
       "      <td>Chardonnay</td>\n",
       "      <td>Standish</td>\n",
       "    </tr>\n",
       "  </tbody>\n",
       "</table>\n",
       "<p>30330 rows × 13 columns</p>\n",
       "</div>"
      ],
      "text/plain": [
       "          country                                        description  \\\n",
       "119        France  Medium-gold in color. Complex and inviting nos...   \n",
       "120         Italy  Slightly backward, particularly given the vint...   \n",
       "121            US  The vineyard is one of the better Chardonnay s...   \n",
       "122            US  Defines Rockpile Zinfandel in intensity of fru...   \n",
       "123     Australia  The blend is roughly two-thirds Shiraz and one...   \n",
       "...           ...                                                ...   \n",
       "129936     France  A blend from several premier cru vineyards in ...   \n",
       "129937    Austria  Smooth, creamy aromas are followed by a rich, ...   \n",
       "129938  Argentina  Compared to the regular 2006 Malbec from Chaka...   \n",
       "129939    Austria  A true TBA, its very rich, toffee-flavored, in...   \n",
       "129940         US  This is the winery's bells and whistles Chardo...   \n",
       "\n",
       "                                       designation  points  price  \\\n",
       "119     Schoenenbourg Grand Cru Vendanges Tardives      92   80.0   \n",
       "120                            Bricco Rocche Prapó      92   70.0   \n",
       "121                           Stuhlmuller Vineyard      92   36.0   \n",
       "122                     Rockpile Cemetary Vineyard      92   39.0   \n",
       "123                                  Parson's Flat      92   40.0   \n",
       "...                                            ...     ...    ...   \n",
       "129936                                 Premier Cru      91   66.0   \n",
       "129937                 Langenloiser Berg-Vogelsang      91   32.0   \n",
       "129938                                     Reserve      91   25.0   \n",
       "129939                                   Grand Vin      91   70.0   \n",
       "129940                             Watson Vineyard      91   36.0   \n",
       "\n",
       "                province          region_1 region_2        taster_name  \\\n",
       "119               Alsace            Alsace      NaN                NaN   \n",
       "120             Piedmont            Barolo      NaN                NaN   \n",
       "121           California  Alexander Valley   Sonoma                NaN   \n",
       "122           California          Rockpile   Sonoma                NaN   \n",
       "123      South Australia         Padthaway      NaN     Joe Czerwinski   \n",
       "...                  ...               ...      ...                ...   \n",
       "129936          Burgundy           Pommard      NaN         Roger Voss   \n",
       "129937           Kamptal               NaN      NaN         Roger Voss   \n",
       "129938  Mendoza Province     Luján de Cuyo      NaN  Michael Schachner   \n",
       "129939        Burgenland               NaN      NaN         Roger Voss   \n",
       "129940        California         Mendocino      NaN                NaN   \n",
       "\n",
       "       taster_twitter_handle  \\\n",
       "119                      NaN   \n",
       "120                      NaN   \n",
       "121                      NaN   \n",
       "122                      NaN   \n",
       "123                   @JoeCz   \n",
       "...                      ...   \n",
       "129936            @vossroger   \n",
       "129937            @vossroger   \n",
       "129938           @wineschach   \n",
       "129939            @vossroger   \n",
       "129940                   NaN   \n",
       "\n",
       "                                                    title  \\\n",
       "119     Dopff & Irion 2004 Schoenenbourg Grand Cru Ven...   \n",
       "120            Ceretto 2003 Bricco Rocche Prapó  (Barolo)   \n",
       "121     Matrix 2007 Stuhlmuller Vineyard Chardonnay (A...   \n",
       "122     Mauritson 2007 Rockpile Cemetary Vineyard Zinf...   \n",
       "123     Henry's Drive Vignerons 2006 Parson's Flat Shi...   \n",
       "...                                                   ...   \n",
       "129936   Bouchard Père & Fils 2005 Premier Cru  (Pommard)   \n",
       "129937  Bründlmayer 2007 Langenloiser Berg-Vogelsang G...   \n",
       "129938        Chakana 2006 Reserve Malbec (Luján de Cuyo)   \n",
       "129939  Schloss Halbturn 2004 Grand Vin White (Burgenl...   \n",
       "129940  Standish 2006 Watson Vineyard Chardonnay (Mend...   \n",
       "\n",
       "                          variety                   winery  \n",
       "119                      Riesling            Dopff & Irion  \n",
       "120                      Nebbiolo                  Ceretto  \n",
       "121                    Chardonnay                   Matrix  \n",
       "122                     Zinfandel                Mauritson  \n",
       "123     Shiraz-Cabernet Sauvignon  Henry's Drive Vignerons  \n",
       "...                           ...                      ...  \n",
       "129936                 Pinot Noir     Bouchard Père & Fils  \n",
       "129937           Grüner Veltliner              Bründlmayer  \n",
       "129938                     Malbec                  Chakana  \n",
       "129939                White Blend         Schloss Halbturn  \n",
       "129940                 Chardonnay                 Standish  \n",
       "\n",
       "[30330 rows x 13 columns]"
      ]
     },
     "execution_count": 11,
     "metadata": {},
     "output_type": "execute_result"
    }
   ],
   "source": [
    "# list(set(df['country'].to_list()))\n",
    "# df.iloc[100:750,list(df.columns).index(\"winery\")] \n",
    "# df.loc[100:750,\"winery\"] # df.loc[100:750,[\"winery\",\"point\"]]\n",
    "\n",
    "# df.loc[-75:,[\"points\",\"price\"]]\n",
    "\n",
    "# df.tail(75)[[\"points\",\"price\"]]\n",
    "# df.loc[df[\"country\"] == \"Italy\"]\n",
    "\n",
    "# df.loc[(df[\"country\"] == \"Italy\") & (df[\"points\"] > 90)]\n",
    "# df.loc[(df[\"points\"] > 90) & (df[\"price\"] < 200)]\n",
    " \n",
    " # & |\n",
    "df.iloc[np.where((df[\"points\"] > 90) & (df[\"price\"] < 200))]\n",
    "\n",
    "\n",
    "# map apply \n",
    "# info describe\n",
    "# eksikler dropna fillna\n",
    "# görsel matplotlib"
   ]
  },
  {
   "cell_type": "code",
   "execution_count": 14,
   "metadata": {},
   "outputs": [
    {
     "ename": "ValueError",
     "evalue": "setting an array element with a sequence. The requested array has an inhomogeneous shape after 1 dimensions. The detected shape was (2,) + inhomogeneous part.",
     "output_type": "error",
     "traceback": [
      "\u001b[31m---------------------------------------------------------------------------\u001b[39m",
      "\u001b[31mValueError\u001b[39m                                Traceback (most recent call last)",
      "\u001b[36mCell\u001b[39m\u001b[36m \u001b[39m\u001b[32mIn[14]\u001b[39m\u001b[32m, line 2\u001b[39m\n\u001b[32m      1\u001b[39m \u001b[38;5;66;03m##### Array Indexing\u001b[39;00m\n\u001b[32m----> \u001b[39m\u001b[32m2\u001b[39m array = \u001b[43mnp\u001b[49m\u001b[43m.\u001b[49m\u001b[43marray\u001b[49m\u001b[43m(\u001b[49m\u001b[43m[\u001b[49m\u001b[43m[\u001b[49m\u001b[32;43m1\u001b[39;49m\u001b[43m,\u001b[49m\u001b[32;43m7\u001b[39;49m\u001b[43m,\u001b[49m\u001b[32;43m10\u001b[39;49m\u001b[43m,\u001b[49m\u001b[32;43m15\u001b[39;49m\u001b[43m]\u001b[49m\u001b[43m,\u001b[49m\u001b[43m[\u001b[49m\u001b[32;43m4\u001b[39;49m\u001b[43m,\u001b[49m\u001b[32;43m5\u001b[39;49m\u001b[43m,\u001b[49m\u001b[32;43m6\u001b[39;49m\u001b[43m]\u001b[49m\u001b[43m]\u001b[49m\u001b[43m)\u001b[49m\n\u001b[32m      3\u001b[39m df.iloc[array,\u001b[32m0\u001b[39m]\n",
      "\u001b[31mValueError\u001b[39m: setting an array element with a sequence. The requested array has an inhomogeneous shape after 1 dimensions. The detected shape was (2,) + inhomogeneous part."
     ]
    }
   ],
   "source": [
    "##### Array Indexing\n",
    "array = np.array([[1,7,10,15],[4,5,6]])\n",
    "df.iloc[array,0]"
   ]
  }
 ],
 "metadata": {
  "kernelspec": {
   "display_name": ".venv",
   "language": "python",
   "name": "python3"
  },
  "language_info": {
   "codemirror_mode": {
    "name": "ipython",
    "version": 3
   },
   "file_extension": ".py",
   "mimetype": "text/x-python",
   "name": "python",
   "nbconvert_exporter": "python",
   "pygments_lexer": "ipython3",
   "version": "3.12.1"
  }
 },
 "nbformat": 4,
 "nbformat_minor": 2
}
