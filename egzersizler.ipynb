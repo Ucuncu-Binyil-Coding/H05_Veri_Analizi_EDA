{
 "cells": [
  {
   "cell_type": "code",
   "execution_count": null,
   "metadata": {},
   "outputs": [],
   "source": [
    "import pandas as pd"
   ]
  },
  {
   "cell_type": "markdown",
   "metadata": {},
   "source": [
    "##### Soru 1. \n",
    "Aşağıdaki DataFrame'in ilk 50 satırını alınız."
   ]
  },
  {
   "cell_type": "code",
   "execution_count": null,
   "metadata": {},
   "outputs": [],
   "source": [
    "df = pd.read_csv(\"/workspaces/H05_Veri_Analizi_EDA/winemag-data-130k-v2.csv\",index_col = 0)\n",
    "df.head(50)['description']\n",
    "df['description'].iloc[:50]"
   ]
  },
  {
   "cell_type": "markdown",
   "metadata": {},
   "source": [
    "##### Soru 2.\n",
    "\n",
    "Point ve price sütunlarındaki belirli index saturların görüntüleyiniz."
   ]
  },
  {
   "cell_type": "code",
   "execution_count": null,
   "metadata": {},
   "outputs": [],
   "source": [
    "##### Soru 2.\n",
    "\n",
    "#Point ve price sütunlarındaki belirli index saturların görüntüleyiniz.\n",
    "\n",
    "df.iloc[[10,250,375,1234]]\n",
    "df.loc[[10,250,375,1234],:]"
   ]
  },
  {
   "cell_type": "code",
   "execution_count": 49,
   "metadata": {},
   "outputs": [
    {
     "ename": "TypeError",
     "evalue": "unhashable type: 'list'",
     "output_type": "error",
     "traceback": [
      "\u001b[31m---------------------------------------------------------------------------\u001b[39m",
      "\u001b[31mTypeError\u001b[39m                                 Traceback (most recent call last)",
      "\u001b[32m/tmp/ipykernel_11175/2037634789.py\u001b[39m in \u001b[36m?\u001b[39m\u001b[34m()\u001b[39m\n\u001b[32m     10\u001b[39m         ]\n\u001b[32m     11\u001b[39m     ]\n\u001b[32m     12\u001b[39m ]\n\u001b[32m     13\u001b[39m \u001b[38;5;66;03m# df[].iloc[]\u001b[39;00m\n\u001b[32m---> \u001b[39m\u001b[32m14\u001b[39m df.at[matrix[\u001b[32m0\u001b[39m][\u001b[32m0\u001b[39m],matrix[\u001b[32m0\u001b[39m][\u001b[32m1\u001b[39m]]\n",
      "\u001b[32m/workspaces/H05_Veri_Analizi_EDA/.venv/lib/python3.12/site-packages/pandas/core/indexing.py\u001b[39m in \u001b[36m?\u001b[39m\u001b[34m(self, key)\u001b[39m\n\u001b[32m   2571\u001b[39m             \u001b[38;5;28;01mif\u001b[39;00m \u001b[38;5;28;01mnot\u001b[39;00m isinstance(key, tuple) \u001b[38;5;28;01mor\u001b[39;00m \u001b[38;5;28;01mnot\u001b[39;00m all(is_scalar(x) \u001b[38;5;28;01mfor\u001b[39;00m x \u001b[38;5;28;01min\u001b[39;00m key):\n\u001b[32m   2572\u001b[39m                 \u001b[38;5;28;01mraise\u001b[39;00m ValueError(\u001b[33m\"Invalid call for scalar access (getting)!\"\u001b[39m)\n\u001b[32m   2573\u001b[39m             \u001b[38;5;28;01mreturn\u001b[39;00m self.obj.loc[key]\n\u001b[32m   2574\u001b[39m \n\u001b[32m-> \u001b[39m\u001b[32m2575\u001b[39m         \u001b[38;5;28;01mreturn\u001b[39;00m super().__getitem__(key)\n",
      "\u001b[32m/workspaces/H05_Veri_Analizi_EDA/.venv/lib/python3.12/site-packages/pandas/core/indexing.py\u001b[39m in \u001b[36m?\u001b[39m\u001b[34m(self, key)\u001b[39m\n\u001b[32m   2523\u001b[39m             \u001b[38;5;28;01melse\u001b[39;00m:\n\u001b[32m   2524\u001b[39m                 \u001b[38;5;28;01mraise\u001b[39;00m ValueError(\u001b[33m\"Invalid call for scalar access (getting)!\"\u001b[39m)\n\u001b[32m   2525\u001b[39m \n\u001b[32m   2526\u001b[39m         key = self._convert_key(key)\n\u001b[32m-> \u001b[39m\u001b[32m2527\u001b[39m         \u001b[38;5;28;01mreturn\u001b[39;00m self.obj._get_value(*key, takeable=self._takeable)\n",
      "\u001b[32m/workspaces/H05_Veri_Analizi_EDA/.venv/lib/python3.12/site-packages/pandas/core/frame.py\u001b[39m in \u001b[36m?\u001b[39m\u001b[34m(self, index, col, takeable)\u001b[39m\n\u001b[32m   4210\u001b[39m         \u001b[38;5;28;01mif\u001b[39;00m takeable:\n\u001b[32m   4211\u001b[39m             series = self._ixs(col, axis=\u001b[32m1\u001b[39m)\n\u001b[32m   4212\u001b[39m             \u001b[38;5;28;01mreturn\u001b[39;00m series._values[index]\n\u001b[32m   4213\u001b[39m \n\u001b[32m-> \u001b[39m\u001b[32m4214\u001b[39m         series = self._get_item_cache(col)\n\u001b[32m   4215\u001b[39m         engine = self.index._engine\n\u001b[32m   4216\u001b[39m \n\u001b[32m   4217\u001b[39m         \u001b[38;5;28;01mif\u001b[39;00m \u001b[38;5;28;01mnot\u001b[39;00m isinstance(self.index, MultiIndex):\n",
      "\u001b[32m/workspaces/H05_Veri_Analizi_EDA/.venv/lib/python3.12/site-packages/pandas/core/frame.py\u001b[39m in \u001b[36m?\u001b[39m\u001b[34m(self, item)\u001b[39m\n\u001b[32m   4629\u001b[39m             loc = self.columns.get_loc(item)\n\u001b[32m   4630\u001b[39m             \u001b[38;5;28;01mreturn\u001b[39;00m self._ixs(loc, axis=\u001b[32m1\u001b[39m)\n\u001b[32m   4631\u001b[39m \n\u001b[32m   4632\u001b[39m         cache = self._item_cache\n\u001b[32m-> \u001b[39m\u001b[32m4633\u001b[39m         res = cache.get(item)\n\u001b[32m   4634\u001b[39m         \u001b[38;5;28;01mif\u001b[39;00m res \u001b[38;5;28;01mis\u001b[39;00m \u001b[38;5;28;01mNone\u001b[39;00m:\n\u001b[32m   4635\u001b[39m             \u001b[38;5;66;03m# All places that call _get_item_cache have unique columns,\u001b[39;00m\n\u001b[32m   4636\u001b[39m             \u001b[38;5;66;03m#  pending resolution of GH#33047\u001b[39;00m\n",
      "\u001b[31mTypeError\u001b[39m: unhashable type: 'list'"
     ]
    }
   ],
   "source": [
    "\n",
    "# df.iloc[[[10,250,375,1234]],[\"points\",\"price\"]]\n",
    "\n",
    "matrix = [\n",
    "    [\n",
    "        [\n",
    "            \"points\",\"price\"\n",
    "        ],\n",
    "        [\n",
    "            10,250,375,1234\n",
    "        ]\n",
    "    ]\n",
    "]\n",
    "# df[].iloc[]\n",
    "df.at[matrix[0][0],matrix[0][1]]"
   ]
  },
  {
   "cell_type": "code",
   "execution_count": null,
   "metadata": {},
   "outputs": [],
   "source": [
    "##### Soru 3. Country sütunun 'Australia' ve 'New Zealand'\n",
    "# df.loc[df[\"country\"].isin([\"New Zealand\"])]\n",
    "df.loc[(df[\"country\"].isin([\"Australia\",\"New Zealand\"])) & (df['points'] >= 95)]"
   ]
  },
  {
   "cell_type": "code",
   "execution_count": null,
   "metadata": {},
   "outputs": [],
   "source": [
    "##### Soru 4. İçinde Italy ve France ülkesi olmayanları indexleyiniz.\n",
    "# df.loc[(~df[\"country\"].isin([\"Italy\",\"France\"]))]\n",
    "df.loc[~df[\"country\"].str.contains(\"Italy|France\",na=False)]"
   ]
  }
 ],
 "metadata": {
  "kernelspec": {
   "display_name": ".venv",
   "language": "python",
   "name": "python3"
  },
  "language_info": {
   "codemirror_mode": {
    "name": "ipython",
    "version": 3
   },
   "file_extension": ".py",
   "mimetype": "text/x-python",
   "name": "python",
   "nbconvert_exporter": "python",
   "pygments_lexer": "ipython3",
   "version": "3.12.1"
  }
 },
 "nbformat": 4,
 "nbformat_minor": 2
}
